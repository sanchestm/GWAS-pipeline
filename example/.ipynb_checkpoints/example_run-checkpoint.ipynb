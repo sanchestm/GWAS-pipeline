{
 "cells": [
  {
   "cell_type": "markdown",
   "id": "42ee1d61-b689-424d-9ee3-654aeffe014a",
   "metadata": {
    "tags": []
   },
   "source": [
    "# simple example"
   ]
  },
  {
   "cell_type": "code",
   "execution_count": null,
   "id": "56083879-9326-429b-98a8-97a06b0e3642",
   "metadata": {},
   "outputs": [],
   "source": [
    "import sys\n",
    "sys.path.append('../')\n",
    "from gwas_class_auto import *\n",
    "dd = pd.read_csv(f'data_dict_example.csv')\n",
    "df = pd.read_csv(f'raw_data.csv', dtype = {'rfid': str}).drop_duplicates(subset = 'rfid')\n",
    "\n",
    "traits_ = []\n",
    "traits_d = []\n",
    "gwas = gwas_pipe(path = f'',\n",
    "             all_genotypes = '/projects/ps-palmer/tsanches/gwaspipeline/gwas/zzplink_genotypes/round10', #'round9_1.vcf.gz',\n",
    "             data = df,\n",
    "             snpeff_path='snpEff/',\n",
    "             project_name = 'test',\n",
    "             phewas_db = '/projects/ps-palmer/tsanches/gwaspipeline/gwas/phewasdb.parquet.gz'\n",
    "             founder_genotypes=  '/projects/ps-palmer/hs_rats/Ref_panel_mRatBN7.2/Ref_panel_mRatBN7_2_chr_GT'\n",
    "             traits = traits_ ,\n",
    "             trait_descriptions= traits_d,\n",
    "             threads = 8)\n"
   ]
  },
  {
   "cell_type": "code",
   "execution_count": null,
   "id": "f6218168-318a-4a54-a1f5-fd3fca0c8104",
   "metadata": {},
   "outputs": [],
   "source": [
    "gwas.regressout(data_dictionary = dd, \n",
    "               covariates_threshold=0.02, verbose = True)\n",
    "gwas.subsetSamplesFromAllGenotypes(sourceFormat = 'plink')\n",
    "gwas.generateGRM()\n",
    "gwas.snpHeritability()\n",
    "gwas.BLUP()\n",
    "gwas.GWAS()\n",
    "gwas.addGWASresultsToDb(researcher='tsanches', round_version='10.0.0', gwas_version='0.1.1')\n",
    "qtls = gwas.callQTLs( NonStrictSearchDir=False)\n",
    "gwas.annotate(qtls)\n",
    "gwas.locuszoom(pd.read_csv(f'{gwas.path}results/qtls/finalqtl.csv')) \n",
    "gwas.effectsize(pd.read_csv(f'{gwas.path}results/qtls/finalqtl.csv')) \n",
    "gwas.genetic_correlation_matrix()\n",
    "gwas.manhattanplot(display = False)\n",
    "gwas.porcupineplot(pd.read_csv(f'{gwas.path}/results/qtls/finalqtl.csv'), display = False)\n",
    "gwas.phewas(pd.read_csv(f'{gwas.path}results/qtls/finalqtl.csv').set_index('SNP'), annotate=True, pval_threshold = 1e-4, nreturn = 1, r2_threshold = .4) \n",
    "gwas.eQTL(pd.read_csv(f'{gwas.path}results/qtls/finalqtl.csv').set_index('SNP'), annotate= True)\n",
    "gwas.sQTL(pd.read_csv(f'{gwas.path}results/qtls/finalqtl.csv').set_index('SNP'))\n",
    "gwas.report( round_version='10.0.0') ### add gwas version\n",
    "gwas.store(researcher='tsanches',round_version='10.0.0', gwas_version='0.1.1',  remove_folders=False)\n",
    "gwas.copy_results()"
   ]
  },
  {
   "cell_type": "markdown",
   "id": "2d098525-96bc-418a-9b31-fe90e4bb0c91",
   "metadata": {},
   "source": [
    "# how to regressout per group"
   ]
  },
  {
   "cell_type": "code",
   "execution_count": null,
   "id": "b5b02875-e416-4605-92a2-3e125013b2c6",
   "metadata": {},
   "outputs": [],
   "source": [
    "def regress(q, t):\n",
    "    gwas = gwas_pipe(path = f'',\n",
    "             all_genotypes = '/projects/ps-palmer/tsanches/gwaspipeline/gwas/zzplink_genotypes/round10', #'round9_1.vcf.gz',\n",
    "             data = q,\n",
    "             snpeff_path='../snpEff/',\n",
    "             project_name = 'u01_peter_kalivas_clusters_june2023',\n",
    "             traits = t ,\n",
    "             trait_descriptions= t,\n",
    "             threads = 8)\n",
    "    return gwas.regressout(data_dictionary = f'data_dict_u01_peter_kalivas_clusters.csv', \n",
    "               covariates_threshold=0.02, verbose = False)\n",
    "    "
   ]
  },
  {
   "cell_type": "code",
   "execution_count": null,
   "id": "47fdb597-a8ca-4f61-b104-8e23b67dfb81",
   "metadata": {},
   "outputs": [],
   "source": [
    "traits_interest = ['escalation_of_heroin_intake_12h', 'total_heroin_consumption', 'bp', 'tail_flick_bl2'] \n",
    "regressed_out = dff.groupby('site').apply(lambda x: regress(x,traits_interest))"
   ]
  },
  {
   "cell_type": "code",
   "execution_count": null,
   "id": "423e23e5-b89f-4d94-a3c3-a3868e0a6393",
   "metadata": {},
   "outputs": [],
   "source": [
    "regressed_out = regressed_out.reset_index(drop = True)"
   ]
  },
  {
   "cell_type": "code",
   "execution_count": null,
   "id": "563d183c-6b85-4def-a491-34ff97e8c667",
   "metadata": {},
   "outputs": [],
   "source": [
    "traits = 'regressedlr_'+pd.Series(traits_interest) \n",
    "regressed_out[traits] = statsReport.quantileTrasformEdited(regressed_out,traits )"
   ]
  },
  {
   "cell_type": "code",
   "execution_count": null,
   "id": "e134d83b-f8b1-473c-95c6-70cfb4e27373",
   "metadata": {},
   "outputs": [],
   "source": [
    "traits_d = get_trait_descriptions_f(dd, traits_)\n",
    "gwas = gwas_pipe(path = f'',\n",
    "             all_genotypes = '/projects/ps-palmer/tsanches/gwaspipeline/gwas/zzplink_genotypes/round10', #'round9_1.vcf.gz',\n",
    "             data = regressed_out,\n",
    "             snpeff_path='../snpEff/',\n",
    "             project_name = 'u01_peter_kalivas_clusters_june2023',\n",
    "             traits = traits ,\n",
    "             trait_descriptions= traits_d,\n",
    "             threads = 8)"
   ]
  },
  {
   "cell_type": "code",
   "execution_count": null,
   "id": "a3a05d80-b788-4f5d-aecc-7ffc9b4844ac",
   "metadata": {},
   "outputs": [],
   "source": [
    "gwas.subsetSamplesFromAllGenotypes(sourceFormat = 'plink')\n",
    "gwas.generateGRM()\n",
    "gwas.snpHeritability()\n",
    "gwas.BLUP()\n",
    "gwas.GWAS()\n",
    "gwas.addGWASresultsToDb(researcher='tsanches', round_version='10.0.0', gwas_version='0.1.1')\n",
    "qtls = gwas.callQTLs( NonStrictSearchDir=False)\n",
    "gwas.annotate(qtls)\n",
    "gwas.locuszoom(pd.read_csv(f'{gwas.path}results/qtls/finalqtl.csv')) \n",
    "gwas.effectsize(pd.read_csv(f'{gwas.path}results/qtls/finalqtl.csv')) \n",
    "gwas.genetic_correlation_matrix()\n",
    "gwas.manhattanplot(display = False)\n",
    "gwas.porcupineplot(pd.read_csv(f'{gwas.path}/results/qtls/finalqtl.csv'), display = False)\n",
    "gwas.phewas(pd.read_csv(f'{gwas.path}results/qtls/finalqtl.csv').set_index('SNP'), annotate=True, pval_threshold = 1e-4, nreturn = 1, r2_threshold = .4) \n",
    "gwas.eQTL(pd.read_csv(f'{gwas.path}results/qtls/finalqtl.csv').set_index('SNP'), annotate= True)\n",
    "gwas.sQTL(pd.read_csv(f'{gwas.path}results/qtls/finalqtl.csv').set_index('SNP'))\n",
    "gwas.report( round_version='10.0.0') ### add gwas version\n",
    "gwas.store(researcher='tsanches',round_version='10.0.0', gwas_version='0.1.1',  remove_folders=False)\n",
    "gwas.copy_results()"
   ]
  },
  {
   "cell_type": "code",
   "execution_count": null,
   "id": "cbdcf335-34d9-4d67-8f0f-43ab38b58825",
   "metadata": {},
   "outputs": [],
   "source": []
  },
  {
   "cell_type": "code",
   "execution_count": null,
   "id": "2fb80c59-92c7-4d33-911e-41cebc1c5bfa",
   "metadata": {},
   "outputs": [],
   "source": []
  }
 ],
 "metadata": {
  "kernelspec": {
   "display_name": "Python [conda env:gwaspipe]",
   "language": "python",
   "name": "conda-env-gwaspipe-py"
  },
  "language_info": {
   "codemirror_mode": {
    "name": "ipython",
    "version": 3
   },
   "file_extension": ".py",
   "mimetype": "text/x-python",
   "name": "python",
   "nbconvert_exporter": "python",
   "pygments_lexer": "ipython3",
   "version": "3.10.9"
  }
 },
 "nbformat": 4,
 "nbformat_minor": 5
}
