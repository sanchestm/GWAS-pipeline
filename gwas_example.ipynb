{
 "cells": [
  {
   "cell_type": "code",
   "execution_count": 1,
   "id": "a210526a-f623-431f-8fe4-5cefd034ac85",
   "metadata": {},
   "outputs": [],
   "source": [
    "import pandas as pd\n",
    "import subprocess\n",
    "from glob import glob\n",
    "from datetime import datetime\n",
    "import numpy as np\n",
    "import re\n",
    "from glob import glob\n",
    "import matplotlib.pyplot as plt\n",
    "import seaborn as sns\n",
    "from scipy.stats import pearsonr\n",
    "import matplotlib.pyplot as plt \n",
    "import gzip\n",
    "import dask.dataframe as dd\n",
    "from tqdm import tqdm\n",
    "#from tqdm.auto import tqdm\n",
    "import gc\n",
    "from collections import Counter\n",
    "from sklearn.decomposition import PCA\n",
    "from umap import UMAP\n",
    "from pathlib import Path\n",
    "import os\n",
    "import inspect\n",
    "from time import sleep\n",
    "import sys\n",
    "import itertools\n",
    "from IPython.utils import io\n"
   ]
  },

  {
   "cell_type": "code",
   "execution_count": 74,
   "id": "ea75aa6f-bd4a-4766-b730-ca379b52de7b",
   "metadata": {},
   "outputs": [],
   "source": [
    "gwas = gwas_pipe(path = 'test/',\n",
    "                all_genotypes = '../hsrats_round9_1/Heterogenous-stock_n14780_10182022_QC_Sex_Het_pass_n13548.vcf.gz',\n",
    "                data = df,\n",
    "                traits =  df.loc[:, 'runwayhandler':].columns.tolist())\n",
    "\n",
    "gwas.make_dir_structure()\n",
    "%time gwas.SubsampleMissMafHweFilter()\n",
    "%time gwas.generateGRM()\n",
    "%time gwas.snpHeritability()\n",
    "%time gwas.gwasPerChr()\n",
    "%time gwas.GWAS()\n",
    "%time gwas.callQTLs()\n"
   ]
  }
 ],
 "metadata": {
  "kernelspec": {
   "display_name": "Python [conda env:CoViewer]",
   "language": "python",
   "name": "conda-env-CoViewer-py"
  },
  "language_info": {
   "codemirror_mode": {
    "name": "ipython",
    "version": 3
   },
   "file_extension": ".py",
   "mimetype": "text/x-python",
   "name": "python",
   "nbconvert_exporter": "python",
   "pygments_lexer": "ipython3",
   "version": "3.8.10"
  }
 },
 "nbformat": 4,
 "nbformat_minor": 5
}
