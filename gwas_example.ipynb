{
 "cells": [
  {
   "cell_type": "code",
   "execution_count": 1,
   "id": "a210526a-f623-431f-8fe4-5cefd034ac85",
   "metadata": {},
   "outputs": [],
   "source": [
    "import pandas as pd\n",
    "import subprocess\n",
    "from glob import glob\n",
    "from datetime import datetime\n",
    "import numpy as np\n",
    "import re\n",
    "from glob import glob\n",
    "import matplotlib.pyplot as plt\n",
    "import seaborn as sns\n",
    "from scipy.stats import pearsonr\n",
    "import matplotlib.pyplot as plt \n",
    "import gzip\n",
    "import dask.dataframe as dd\n",
    "from tqdm import tqdm\n",
    "#from tqdm.auto import tqdm\n",
    "import gc\n",
    "from collections import Counter\n",
    "from sklearn.decomposition import PCA\n",
    "from umap import UMAP\n",
    "from pathlib import Path\n",
    "import os\n",
    "import inspect\n",
    "from time import sleep\n",
    "import sys\n",
    "import itertools\n",
    "from IPython.utils import io\n"
   ]
  },

  {
   "cell_type": "code",
   "execution_count": 74,
   "id": "ea75aa6f-bd4a-4766-b730-ca379b52de7b",
   "metadata": {},
   "outputs": [
    {
     "data": {
      "text/html": [
       "<div>\n",
       "<style scoped>\n",
       "    .dataframe tbody tr th:only-of-type {\n",
       "        vertical-align: middle;\n",
       "    }\n",
       "\n",
       "    .dataframe tbody tr th {\n",
       "        vertical-align: top;\n",
       "    }\n",
       "\n",
       "    .dataframe thead th {\n",
       "        text-align: right;\n",
       "    }\n",
       "</style>\n",
       "<table border=\"1\" class=\"dataframe\">\n",
       "  <thead>\n",
       "    <tr style=\"text-align: right;\">\n",
       "      <th></th>\n",
       "      <th>logL0</th>\n",
       "      <th>LRT</th>\n",
       "      <th>df</th>\n",
       "      <th>Pval</th>\n",
       "      <th>n</th>\n",
       "    </tr>\n",
       "  </thead>\n",
       "  <tbody>\n",
       "    <tr>\n",
       "      <th>trait</th>\n",
       "      <td>-104.048</td>\n",
       "      <td>0.0</td>\n",
       "      <td>1.0</td>\n",
       "      <td>0.5</td>\n",
       "      <td>191.0</td>\n",
       "    </tr>\n",
       "  </tbody>\n",
       "</table>\n",
       "</div>"
      ],
      "text/plain": [
       "0        logL0  LRT   df  Pval      n\n",
       "trait -104.048  0.0  1.0   0.5  191.0"
      ]
     },
     "execution_count": 74,
     "metadata": {},
     "output_type": "execute_result"
    }
   ],
   "source": [
    "gwas = gwas_pipe(path = 'test/',\n",
    "                all_genotypes = '../hsrats_round9_1/Heterogenous-stock_n14780_10182022_QC_Sex_Het_pass_n13548.vcf.gz',\n",
    "                data = df,\n",
    "                traits =  df.loc[:, 'runwayhandler':].columns.tolist())\n",
    "\n",
    "gwas.make_dir_structure()\n",
    "%time gwas.SubsampleMissMafHweFilter()\n",
    "%time gwas.generateGRM()\n",
    "%time gwas.snpHeritability()\n",
    "%time gwas.gwasPerChr()\n",
    "%time gwas.GWAS()\n",
    "%time gwas.callQTLs()\n"
   ]
  },
  {
   "cell_type": "code",
   "execution_count": 78,
   "id": "32c69587-4d34-4193-a292-a328f4f6bd38",
   "metadata": {},
   "outputs": [
    {
     "data": {
      "text/html": [
       "<div>\n",
       "<style scoped>\n",
       "    .dataframe tbody tr th:only-of-type {\n",
       "        vertical-align: middle;\n",
       "    }\n",
       "\n",
       "    .dataframe tbody tr th {\n",
       "        vertical-align: top;\n",
       "    }\n",
       "\n",
       "    .dataframe thead th {\n",
       "        text-align: right;\n",
       "    }\n",
       "</style>\n",
       "<table border=\"1\" class=\"dataframe\">\n",
       "  <thead>\n",
       "    <tr style=\"text-align: right;\">\n",
       "      <th></th>\n",
       "      <th>logL0</th>\n",
       "      <th>LRT</th>\n",
       "      <th>df</th>\n",
       "      <th>Pval</th>\n",
       "      <th>n</th>\n",
       "    </tr>\n",
       "  </thead>\n",
       "  <tbody>\n",
       "    <tr>\n",
       "      <th>trait</th>\n",
       "      <td>-104.048</td>\n",
       "      <td>0.0</td>\n",
       "      <td>1.0</td>\n",
       "      <td>0.5</td>\n",
       "      <td>191.0</td>\n",
       "    </tr>\n",
       "    <tr>\n",
       "      <th>trait</th>\n",
       "      <td>-104.048</td>\n",
       "      <td>0.0</td>\n",
       "      <td>1.0</td>\n",
       "      <td>0.5</td>\n",
       "      <td>191.0</td>\n",
       "    </tr>\n",
       "    <tr>\n",
       "      <th>trait</th>\n",
       "      <td>-104.048</td>\n",
       "      <td>0.0</td>\n",
       "      <td>1.0</td>\n",
       "      <td>0.5</td>\n",
       "      <td>191.0</td>\n",
       "    </tr>\n",
       "    <tr>\n",
       "      <th>trait</th>\n",
       "      <td>-104.048</td>\n",
       "      <td>0.0</td>\n",
       "      <td>1.0</td>\n",
       "      <td>0.5</td>\n",
       "      <td>191.0</td>\n",
       "    </tr>\n",
       "  </tbody>\n",
       "</table>\n",
       "</div>"
      ],
      "text/plain": [
       "0        logL0  LRT   df  Pval      n\n",
       "trait -104.048  0.0  1.0   0.5  191.0\n",
       "trait -104.048  0.0  1.0   0.5  191.0\n",
       "trait -104.048  0.0  1.0   0.5  191.0\n",
       "trait -104.048  0.0  1.0   0.5  191.0"
      ]
     },
     "execution_count": 78,
     "metadata": {},
     "output_type": "execute_result"
    }
   ],
   "source": [
    "h2table = pd.DataFrame()\n",
    "for i in range(4):\n",
    "    h2table = h2table.append(b)\n",
    "h2table"
   ]
  },
  {
   "cell_type": "code",
   "execution_count": 20,
   "id": "3b949cbd-3678-48f3-9ffd-d1de8b36c2f0",
   "metadata": {},
   "outputs": [],
   "source": [
    "samplelist = ['a', 'b', 'c']\n",
    "df = pd.DataFrame([samplelist,samplelist]).T\n",
    "#df.to_csv('genotypes/sample_rfids.txt', index = False, header = None, sep = '\\t')"
   ]
  },
  {
   "cell_type": "code",
   "execution_count": 4,
   "id": "e9a0e9ff-8c12-45f7-b0da-77ba9b95b00f",
   "metadata": {},
   "outputs": [
    {
     "data": {
      "text/plain": [
       "'C:\\\\Users\\\\thiag\\\\Documents\\\\GitHub\\\\GWAS_pipeline\\\\gwas_python_code'"
      ]
     },
     "execution_count": 4,
     "metadata": {},
     "output_type": "execute_result"
    }
   ],
   "source": [
    "str(Path().absolute())"
   ]
  },
  {
   "cell_type": "code",
   "execution_count": 6,
   "id": "8cf91337-35c7-4f81-a509-102bdd63a1e5",
   "metadata": {},
   "outputs": [],
   "source": [
    "if []: print('yes')"
   ]
  },
  {
   "cell_type": "code",
   "execution_count": null,
   "id": "522463a4-5629-445e-a838-35960293690c",
   "metadata": {},
   "outputs": [],
   "source": []
  }
 ],
 "metadata": {
  "kernelspec": {
   "display_name": "Python [conda env:CoViewer]",
   "language": "python",
   "name": "conda-env-CoViewer-py"
  },
  "language_info": {
   "codemirror_mode": {
    "name": "ipython",
    "version": 3
   },
   "file_extension": ".py",
   "mimetype": "text/x-python",
   "name": "python",
   "nbconvert_exporter": "python",
   "pygments_lexer": "ipython3",
   "version": "3.8.10"
  }
 },
 "nbformat": 4,
 "nbformat_minor": 5
}
