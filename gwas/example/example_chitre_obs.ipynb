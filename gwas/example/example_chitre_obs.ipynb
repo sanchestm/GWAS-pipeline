{
 "cells": [
  {
   "cell_type": "code",
   "execution_count": null,
   "id": "65302585-0f9f-44ee-99b0-cccee17bd610",
   "metadata": {},
   "outputs": [],
   "source": [
    "import sys\n",
    "sys.path.append('/tscc/projects/ps-palmer/gwas/GWAS-pipeline/')\n",
    "from gwas_class_auto import *\n",
    "from interactiveqc import interactive_QC"
   ]
  },
  {
   "cell_type": "markdown",
   "id": "b4fb78b5-676a-4018-a3eb-f4a38eee2228",
   "metadata": {},
   "source": [
    "## Let's download the a test dataset. In this example we will use the published data from our lab and our colaborators:\n",
    " Association Study in 3,173 Outbred Rats Identifies Multiple Loci for Body Weight, Adiposity, and Fasting Glucose. In The Center for GWAS in Outbred Rats Database (C-GORD). UC San Diego Library Digital Collections. https://doi.org/10.6075/J0Q240F0.\n",
    " #### phenotypes https://library.ucsd.edu/dc/object/bb9156620z/_2_1.zip/download\n",
    "#### genotypes prunned https://library.ucsd.edu/dc/object/bb9156620z/_3_1.zip/download\n",
    "\n",
    " \n",
    "this contains 2 files, one with raw data and one with a data dictionary that will be used to tell the pipeline which covariate is related to which trait, \n",
    "\n",
    "most likely you'll not have a data dictionary, so to make it more fair let's build it again\n",
    "\n",
    "second we need an individual ID column. the pipeline requires it to be labeled as 'rfid' and it will be read as a string in all cases. second there must be a column called sex with the M|F encoding (because we have to do some extra treatment for the X and Y chr that is sex dependent)"
   ]
  },
  {
   "cell_type": "code",
   "execution_count": null,
   "id": "acee1334-3500-48c9-8da7-b62deb44519a",
   "metadata": {},
   "outputs": [],
   "source": [
    "### this will donwload the raw data and a data dictionary ## the ! is useful to run bash in a jupyter notebook\n",
    "!wget https://library.ucsd.edu/dc/object/bb9156620z/_2_1.zip/download\n",
    "!unzip -o download  \n",
    "\n",
    "### removing unneeded files\n",
    "os.remove('Obesity_normalized_phenotypes_n3173.csv')\n",
    "os.remove('trait_ontology.xlsx')\n",
    "os.remove('download')"
   ]
  },
  {
   "cell_type": "code",
   "execution_count": null,
   "id": "2844856c-6e28-4bfe-8475-a555deb3b2c1",
   "metadata": {},
   "outputs": [],
   "source": [
    "!wget https://library.ucsd.edu/dc/object/bb9156620z/_3_1.zip/download\n",
    "!unzip -o download\n",
    "!unzip -o LD_pruned_PLINK.zip\n",
    "\n",
    "### removing unneeded files\n",
    "os.remove('LD_pruned_PLINK.zip')\n",
    "os.remove('LD_pruned_0.95.zip')\n",
    "os.remove('download')"
   ]
  },
  {
   "cell_type": "markdown",
   "id": "5810d702-d4d5-415d-ac8f-7a728af586a1",
   "metadata": {},
   "source": [
    "# Awesome, we have our test data, now we need to check formats and make sure it's all good"
   ]
  },
  {
   "cell_type": "code",
   "execution_count": null,
   "id": "85abac0b-5e77-41f6-8a6e-3d8d1946aaba",
   "metadata": {},
   "outputs": [],
   "source": [
    "df = pd.read_csv('Obesity_published_phenotypes_raw_n3173.csv')\n",
    "print('rfid' in df.columns , 'sex' in df.columns) ### let's check if the essential columns are there\n",
    "display(df.columns) ### they are not, but we can see that rfid is rat_rfid and sex is sex_mf\n",
    "## let's rename it then\n",
    "df.rename({'rat_rfid': 'rfid', 'sex_mf': 'sex'}, axis = 1, inplace = True)\n",
    "df.dropna(subset = ['sex', 'rfid'], inplace = True)\n",
    "#df = df.query('center == \"MI\"') ### lets subset to a single site to lower the number of animals"
   ]
  },
  {
   "cell_type": "code",
   "execution_count": null,
   "id": "97a1fd08-6ccc-41c0-8180-2fd1768a49d3",
   "metadata": {},
   "outputs": [],
   "source": [
    "datadic = generate_datadic(rawdata=df, \n",
    "                 trait_prefix='glucose,body_weight',\n",
    "                 main_cov='sex,center', \n",
    "                 save = False,\n",
    "                 description_dict={'bmi_wo_tail': 'Example of adding better description to bmi_wo_tail trait'}\n",
    "                ) ### this will give a good start for the data_dictionary file ### 'bmi,body_weight,length,epididymis,glucose,tail,retroperitoneal',\n",
    "#datadic"
   ]
  },
  {
   "cell_type": "code",
   "execution_count": null,
   "id": "8bf78058-cbb9-48b3-992d-ff24ecc26921",
   "metadata": {},
   "outputs": [],
   "source": [
    "#### looking at this we can notice that there is a suffix _age and _technician that are covariates or their respective traits, so we will have to make some adjustments.\n",
    "#### this reminding that we can do this on excel too if you're not confortable with coding as much, the goal is to be efficient regardsless of the skillset\n",
    "datadic.loc[datadic.measure.str.contains('_technician$'), 'trait_covariate'] = 'covariate_categorical' # fix tech as a covariate and not trait\n",
    "datadic.loc[datadic.trait_covariate.str.contains('^trait$'), 'covariates'] += \\\n",
    "    datadic.loc[datadic.trait_covariate.str.contains('^trait$'), 'measure'].map(lambda x: f',{x}_age' if f'{x}_age' in datadic.measure.values else '' ) + \\\n",
    "    datadic.loc[datadic.trait_covariate.str.contains('^trait$'), 'measure'].map(lambda x: f',{x}_technician' if f'{x}_technician' in datadic.measure.values else '' ) \n",
    "datadic"
   ]
  },
  {
   "cell_type": "code",
   "execution_count": null,
   "id": "a4f6cc10-d3ed-43f8-8141-e24ac5ed08dd",
   "metadata": {},
   "outputs": [],
   "source": [
    "datadic.to_csv(f'data_dict_{os.path.basename(os.getcwd())}.csv', index=False) # save data dictionary in the format data_dict_$foldername"
   ]
  },
  {
   "cell_type": "code",
   "execution_count": null,
   "id": "3605f848-7dac-4691-a04d-ffbf95df9a33",
   "metadata": {},
   "outputs": [],
   "source": [
    "qc = interactive_QC(raw_data=df, data_dictionary=datadic)"
   ]
  },
  {
   "cell_type": "code",
   "execution_count": null,
   "id": "effe4f94-e98b-401e-b258-36c4636d3a82",
   "metadata": {},
   "outputs": [],
   "source": [
    "qc.QC() ### this will pop up an interactive qc that you can use to set thresholds, remove individual rats, and do more strinct filtering \n",
    "        ### we make it obligatory to go through all traits before saving necessary files"
   ]
  },
  {
   "cell_type": "code",
   "execution_count": null,
   "id": "bf30ebc4-af9d-4704-9858-8023e2c41f8f",
   "metadata": {},
   "outputs": [],
   "source": [
    "pd.read_csv('raw_data_curated_n3193_20240917.csv').to_csv('raw_data.csv', index = False)"
   ]
  },
  {
   "cell_type": "markdown",
   "id": "3a50dbfb-8355-453f-9187-5a7a713d3df3",
   "metadata": {},
   "source": [
    "# Now we can actually run the pipeline"
   ]
  },
  {
   "cell_type": "code",
   "execution_count": null,
   "id": "9674d19b-e95e-4a8d-b957-7191052c2463",
   "metadata": {},
   "outputs": [],
   "source": [
    "pipeline = gwas_pipe(path = f'', ### this is the path to the folder, we are working in the same folder as the results, so we keep it with an empty string\n",
    "             all_genotypes = 'P50_round2_LD_pruned_3473', #path to the bim/bam/bam without file format name\n",
    "             data = df, # this is the dataframe that we have, we could also provide the string to the raw data\n",
    "             project_name = 'example', # this has to be the same as the basename of the folder\n",
    "             traits = [], # you can subset the traits, but most of the time following the datadictionary is the best\n",
    "             genome_accession = 'GCF_000001895.5', \n",
    "             # in this case I know the NCBI genome accession, but if you don't know yours just leave it blank and the pipeline will guide you \n",
    "             # otherwise you can search it on https://www.ncbi.nlm.nih.gov/datasets/genome/\n",
    "             threshold = 5.38, # here im setting to a known threshold, if you don't know yours, make the value to be 'auto' and it will estimate it for you but with a pretty high penalty in time\n",
    "             founderfile = None , # I know the genotypes of the founders in this case, but if you don't, leave it '' or write 'none' '/tscc/projects/ps-palmer/gwas/databases/founder_genotypes/founders7.2'\n",
    "             phewas_db = 'https://palmerlab.s3.sdsc.edu/tsanches_dash_genotypes/phewas/phewasdb_rn6.parquet.gz', # this is the phewas_database that we will use for querying traits, most likely you don't have one already so you can chose something new \n",
    "             threads = 60)\n"
   ]
  },
  {
   "cell_type": "code",
   "execution_count": null,
   "id": "b42c3597-4038-4dcb-a972-63616b34c65a",
   "metadata": {
    "scrolled": true
   },
   "outputs": [],
   "source": [
    "%%time\n",
    "pipeline.run(round_version='genotypes_test', add_sex_specific_traits = True, clear_directories = True,\n",
    "            gwas_version = '0.3.0', groupby_animals = ['center'], add_latent_space=False,\n",
    "            researcher = 'user')"
   ]
  },
  {
   "cell_type": "code",
   "execution_count": null,
   "id": "5ae52b42-3b5b-4712-8a47-35ac2ec3de38",
   "metadata": {},
   "outputs": [],
   "source": []
  }
 ],
 "metadata": {
  "kernelspec": {
   "display_name": "Python [conda env:ai]",
   "language": "python",
   "name": "conda-env-ai-py"
  },
  "language_info": {
   "codemirror_mode": {
    "name": "ipython",
    "version": 3
   },
   "file_extension": ".py",
   "mimetype": "text/x-python",
   "name": "python",
   "nbconvert_exporter": "python",
   "pygments_lexer": "ipython3",
   "version": "3.11.9"
  }
 },
 "nbformat": 4,
 "nbformat_minor": 5
}
